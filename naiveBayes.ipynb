{
 "cells": [
  {
   "cell_type": "code",
   "execution_count": 1,
   "metadata": {},
   "outputs": [
    {
     "name": "stdout",
     "output_type": "stream",
     "text": [
      "./data/disease.csv\n",
      "./data/disease_description.csv\n",
      "./data/disease_test.csv\n",
      "./data/ner.csv\n",
      "./data/ner_test.csv\n",
      "./data/README.txt\n",
      "./data/sentences_by_respondent.csv\n",
      "./data/sentences_by_respondent_test.csv\n"
     ]
    }
   ],
   "source": [
    "import numpy as np # linear algebra\n",
    "import pandas as pd # data processing, CSV file I/O (e.g. pd.read_csv)\n",
    "import matplotlib.pyplot as plt # for data visualization purposes\n",
    "import seaborn as sns # for statistical data visualization\n",
    "%matplotlib inline\n",
    "\n",
    "# Import data directory\n",
    "\n",
    "import os\n",
    "for dirname, _, filenames in os.walk('./data/'):\n",
    "    for filename in filenames:\n",
    "        print(os.path.join(dirname, filename))\n"
   ]
  },
  {
   "cell_type": "code",
   "execution_count": 2,
   "metadata": {},
   "outputs": [],
   "source": [
    "data = './data/disease.csv'\n",
    "\n",
    "dataset = pd.read_csv(data)"
   ]
  },
  {
   "cell_type": "code",
   "execution_count": 3,
   "metadata": {},
   "outputs": [
    {
     "data": {
      "text/plain": [
       "(26, 40)"
      ]
     },
     "execution_count": 3,
     "metadata": {},
     "output_type": "execute_result"
    }
   ],
   "source": [
    "dataset.shape"
   ]
  },
  {
   "cell_type": "code",
   "execution_count": 4,
   "metadata": {},
   "outputs": [],
   "source": [
    "dataset = dataset.dropna(axis=0)"
   ]
  },
  {
   "cell_type": "code",
   "execution_count": 5,
   "metadata": {},
   "outputs": [
    {
     "data": {
      "text/html": [
       "<div>\n",
       "<style scoped>\n",
       "    .dataframe tbody tr th:only-of-type {\n",
       "        vertical-align: middle;\n",
       "    }\n",
       "\n",
       "    .dataframe tbody tr th {\n",
       "        vertical-align: top;\n",
       "    }\n",
       "\n",
       "    .dataframe thead th {\n",
       "        text-align: right;\n",
       "    }\n",
       "</style>\n",
       "<table border=\"1\" class=\"dataframe\">\n",
       "  <thead>\n",
       "    <tr style=\"text-align: right;\">\n",
       "      <th></th>\n",
       "      <th>result</th>\n",
       "      <th>hirap sa paghinga</th>\n",
       "      <th>pagsikip sa dibdib</th>\n",
       "      <th>ubo</th>\n",
       "      <th>pag-aagahas</th>\n",
       "      <th>pamumula sa balat</th>\n",
       "      <th>kati</th>\n",
       "      <th>pantal</th>\n",
       "      <th>kumapal yung balat</th>\n",
       "      <th>sensitibo</th>\n",
       "      <th>...</th>\n",
       "      <th>masakit na pag-nguya</th>\n",
       "      <th>pamamaga nggilagid</th>\n",
       "      <th>hirap sa pag-utot</th>\n",
       "      <th>pananakit sa kanang tagiliran</th>\n",
       "      <th>pananakit ng kalamnan</th>\n",
       "      <th>pananakit ng kasu-kasuan</th>\n",
       "      <th>matamlay</th>\n",
       "      <th>matagal na pag-galing ng sugat</th>\n",
       "      <th>madalas umihi</th>\n",
       "      <th>madalas ang pagdumi</th>\n",
       "    </tr>\n",
       "  </thead>\n",
       "  <tbody>\n",
       "    <tr>\n",
       "      <th>13</th>\n",
       "      <td>flu</td>\n",
       "      <td>0.0</td>\n",
       "      <td>0.0</td>\n",
       "      <td>0.0</td>\n",
       "      <td>0.0</td>\n",
       "      <td>0.0</td>\n",
       "      <td>0.0</td>\n",
       "      <td>0.0</td>\n",
       "      <td>0.0</td>\n",
       "      <td>0.0</td>\n",
       "      <td>...</td>\n",
       "      <td>0.0</td>\n",
       "      <td>0.0</td>\n",
       "      <td>0.0</td>\n",
       "      <td>0.0</td>\n",
       "      <td>0.0</td>\n",
       "      <td>0.0</td>\n",
       "      <td>0.0</td>\n",
       "      <td>0.0</td>\n",
       "      <td>0.0</td>\n",
       "      <td>0.0</td>\n",
       "    </tr>\n",
       "    <tr>\n",
       "      <th>14</th>\n",
       "      <td>altapresyon</td>\n",
       "      <td>0.0</td>\n",
       "      <td>0.0</td>\n",
       "      <td>0.0</td>\n",
       "      <td>0.0</td>\n",
       "      <td>0.0</td>\n",
       "      <td>0.0</td>\n",
       "      <td>0.0</td>\n",
       "      <td>0.0</td>\n",
       "      <td>0.0</td>\n",
       "      <td>...</td>\n",
       "      <td>0.0</td>\n",
       "      <td>0.0</td>\n",
       "      <td>0.0</td>\n",
       "      <td>0.0</td>\n",
       "      <td>0.0</td>\n",
       "      <td>0.0</td>\n",
       "      <td>0.0</td>\n",
       "      <td>0.0</td>\n",
       "      <td>0.0</td>\n",
       "      <td>0.0</td>\n",
       "    </tr>\n",
       "    <tr>\n",
       "      <th>15</th>\n",
       "      <td>diarrhea</td>\n",
       "      <td>0.0</td>\n",
       "      <td>0.0</td>\n",
       "      <td>0.0</td>\n",
       "      <td>0.0</td>\n",
       "      <td>0.0</td>\n",
       "      <td>0.0</td>\n",
       "      <td>0.0</td>\n",
       "      <td>0.0</td>\n",
       "      <td>0.0</td>\n",
       "      <td>...</td>\n",
       "      <td>0.0</td>\n",
       "      <td>0.0</td>\n",
       "      <td>0.0</td>\n",
       "      <td>0.0</td>\n",
       "      <td>0.0</td>\n",
       "      <td>0.0</td>\n",
       "      <td>0.0</td>\n",
       "      <td>0.0</td>\n",
       "      <td>0.0</td>\n",
       "      <td>0.0</td>\n",
       "    </tr>\n",
       "    <tr>\n",
       "      <th>16</th>\n",
       "      <td>toothache</td>\n",
       "      <td>0.0</td>\n",
       "      <td>0.0</td>\n",
       "      <td>0.0</td>\n",
       "      <td>0.0</td>\n",
       "      <td>0.0</td>\n",
       "      <td>0.0</td>\n",
       "      <td>0.0</td>\n",
       "      <td>0.0</td>\n",
       "      <td>0.0</td>\n",
       "      <td>...</td>\n",
       "      <td>1.0</td>\n",
       "      <td>1.0</td>\n",
       "      <td>0.0</td>\n",
       "      <td>0.0</td>\n",
       "      <td>0.0</td>\n",
       "      <td>0.0</td>\n",
       "      <td>0.0</td>\n",
       "      <td>0.0</td>\n",
       "      <td>0.0</td>\n",
       "      <td>0.0</td>\n",
       "    </tr>\n",
       "    <tr>\n",
       "      <th>17</th>\n",
       "      <td>appendicitis</td>\n",
       "      <td>0.0</td>\n",
       "      <td>0.0</td>\n",
       "      <td>0.0</td>\n",
       "      <td>0.0</td>\n",
       "      <td>0.0</td>\n",
       "      <td>0.0</td>\n",
       "      <td>0.0</td>\n",
       "      <td>0.0</td>\n",
       "      <td>0.0</td>\n",
       "      <td>...</td>\n",
       "      <td>0.0</td>\n",
       "      <td>0.0</td>\n",
       "      <td>1.0</td>\n",
       "      <td>1.0</td>\n",
       "      <td>0.0</td>\n",
       "      <td>0.0</td>\n",
       "      <td>0.0</td>\n",
       "      <td>0.0</td>\n",
       "      <td>0.0</td>\n",
       "      <td>0.0</td>\n",
       "    </tr>\n",
       "  </tbody>\n",
       "</table>\n",
       "<p>5 rows × 40 columns</p>\n",
       "</div>"
      ],
      "text/plain": [
       "          result  hirap sa paghinga  pagsikip sa dibdib  ubo  pag-aagahas  \\\n",
       "13           flu                0.0                 0.0  0.0          0.0   \n",
       "14   altapresyon                0.0                 0.0  0.0          0.0   \n",
       "15      diarrhea                0.0                 0.0  0.0          0.0   \n",
       "16     toothache                0.0                 0.0  0.0          0.0   \n",
       "17  appendicitis                0.0                 0.0  0.0          0.0   \n",
       "\n",
       "    pamumula sa balat  kati  pantal  kumapal yung balat  sensitibo  ...  \\\n",
       "13                0.0   0.0     0.0                 0.0        0.0  ...   \n",
       "14                0.0   0.0     0.0                 0.0        0.0  ...   \n",
       "15                0.0   0.0     0.0                 0.0        0.0  ...   \n",
       "16                0.0   0.0     0.0                 0.0        0.0  ...   \n",
       "17                0.0   0.0     0.0                 0.0        0.0  ...   \n",
       "\n",
       "    masakit na pag-nguya  pamamaga nggilagid  hirap sa pag-utot  \\\n",
       "13                   0.0                 0.0                0.0   \n",
       "14                   0.0                 0.0                0.0   \n",
       "15                   0.0                 0.0                0.0   \n",
       "16                   1.0                 1.0                0.0   \n",
       "17                   0.0                 0.0                1.0   \n",
       "\n",
       "    pananakit sa kanang tagiliran  pananakit ng kalamnan  \\\n",
       "13                            0.0                    0.0   \n",
       "14                            0.0                    0.0   \n",
       "15                            0.0                    0.0   \n",
       "16                            0.0                    0.0   \n",
       "17                            1.0                    0.0   \n",
       "\n",
       "    pananakit ng kasu-kasuan  matamlay  matagal na pag-galing ng sugat  \\\n",
       "13                       0.0       0.0                             0.0   \n",
       "14                       0.0       0.0                             0.0   \n",
       "15                       0.0       0.0                             0.0   \n",
       "16                       0.0       0.0                             0.0   \n",
       "17                       0.0       0.0                             0.0   \n",
       "\n",
       "    madalas umihi  madalas ang pagdumi  \n",
       "13            0.0                  0.0  \n",
       "14            0.0                  0.0  \n",
       "15            0.0                  0.0  \n",
       "16            0.0                  0.0  \n",
       "17            0.0                  0.0  \n",
       "\n",
       "[5 rows x 40 columns]"
      ]
     },
     "execution_count": 5,
     "metadata": {},
     "output_type": "execute_result"
    }
   ],
   "source": [
    "dataset.head()"
   ]
  },
  {
   "cell_type": "code",
   "execution_count": 6,
   "metadata": {},
   "outputs": [
    {
     "data": {
      "text/plain": [
       "Index(['result', 'hirap sa paghinga', 'pagsikip sa dibdib', 'ubo',\n",
       "       'pag-aagahas', 'pamumula sa balat', 'kati', 'pantal',\n",
       "       'kumapal yung balat', 'sensitibo', 'magaspang ang balat',\n",
       "       'dugo sa plema', 'nabawasan ang timbang', 'nanghina ang katawan',\n",
       "       'nagpapawis tuwing gabi', 'nawalan ng gana kumain', 'nilalamig',\n",
       "       'lagnat', 'masakit ang katawan', 'masakit ang ulo', 'nagsusuka', 'hilo',\n",
       "       'ubong may plema', 'pagkawala ng panlasa', 'pagkawala ng pang amoy',\n",
       "       'barado ang ilong', 'masakit ang batok', 'paglabo ng paningin',\n",
       "       'sakit ng tiyan', 'mabilis na tibok ng puso', 'masakit na pag-nguya',\n",
       "       'pamamaga nggilagid', 'hirap sa pag-utot',\n",
       "       'pananakit sa kanang tagiliran', 'pananakit ng kalamnan',\n",
       "       'pananakit ng kasu-kasuan', 'matamlay',\n",
       "       'matagal na pag-galing ng sugat', 'madalas umihi',\n",
       "       'madalas ang pagdumi'],\n",
       "      dtype='object')"
      ]
     },
     "execution_count": 6,
     "metadata": {},
     "output_type": "execute_result"
    }
   ],
   "source": [
    "dataset.columns"
   ]
  },
  {
   "cell_type": "code",
   "execution_count": 7,
   "metadata": {},
   "outputs": [
    {
     "data": {
      "text/plain": [
       "hirap sa paghinga                 0\n",
       "pagsikip sa dibdib                0\n",
       "ubo                               0\n",
       "pag-aagahas                       0\n",
       "pamumula sa balat                 0\n",
       "kati                              0\n",
       "pantal                            0\n",
       "kumapal yung balat                0\n",
       "sensitibo                         0\n",
       "magaspang ang balat               0\n",
       "dugo sa plema                     0\n",
       "nabawasan ang timbang             0\n",
       "nanghina ang katawan              0\n",
       "nagpapawis tuwing gabi            0\n",
       "nawalan ng gana kumain            0\n",
       "nilalamig                         0\n",
       "lagnat                            0\n",
       "masakit ang katawan               0\n",
       "masakit ang ulo                   0\n",
       "nagsusuka                         0\n",
       "hilo                              0\n",
       "ubong may plema                   0\n",
       "pagkawala ng panlasa              0\n",
       "pagkawala ng pang amoy            0\n",
       "barado ang ilong                  0\n",
       "masakit ang batok                 0\n",
       "paglabo ng paningin               0\n",
       "sakit ng tiyan                    0\n",
       "mabilis na tibok ng puso          0\n",
       "masakit na pag-nguya              0\n",
       "pamamaga nggilagid                0\n",
       "hirap sa pag-utot                 0\n",
       "pananakit sa kanang tagiliran     0\n",
       "pananakit ng kalamnan             0\n",
       "pananakit ng kasu-kasuan          0\n",
       "matamlay                          0\n",
       "matagal na pag-galing ng sugat    0\n",
       "madalas umihi                     0\n",
       "madalas ang pagdumi               0\n",
       "dtype: int64"
      ]
     },
     "execution_count": 7,
     "metadata": {},
     "output_type": "execute_result"
    }
   ],
   "source": [
    "# find numerical variables\n",
    "\n",
    "numerical = [var for var in dataset.columns if dataset[var].dtype != 'O']\n",
    "\n",
    "dataset[numerical].isnull().sum()\n"
   ]
  },
  {
   "cell_type": "code",
   "execution_count": 8,
   "metadata": {},
   "outputs": [],
   "source": [
    "# Target variable\n",
    "x = dataset.drop(['result'], axis=1)\n",
    "y = dataset['result']"
   ]
  },
  {
   "cell_type": "code",
   "execution_count": 9,
   "metadata": {},
   "outputs": [],
   "source": [
    "# Training and testing split\n",
    "\n",
    "from sklearn.model_selection import train_test_split\n",
    "\n",
    "x_train, x_test, y_train, y_test = train_test_split(\n",
    "    x, y, test_size=0.3, random_state = 0)"
   ]
  },
  {
   "cell_type": "code",
   "execution_count": 10,
   "metadata": {},
   "outputs": [
    {
     "data": {
      "text/plain": [
       "{'flu': 0,\n",
       " 'altapresyon': 1,\n",
       " 'diarrhea': 2,\n",
       " 'toothache': 3,\n",
       " 'appendicitis': 4,\n",
       " 'dengue': 5,\n",
       " 'diabetes': 6,\n",
       " 'migraine': 7,\n",
       " 'asthma': 8,\n",
       " 'covid 19': 9}"
      ]
     },
     "execution_count": 10,
     "metadata": {},
     "output_type": "execute_result"
    }
   ],
   "source": [
    "disease_list = y.drop_duplicates()\n",
    "\n",
    "disease2idx = {w: i for i, w in enumerate(disease_list)}\n",
    "disease2idx"
   ]
  },
  {
   "cell_type": "code",
   "execution_count": 11,
   "metadata": {},
   "outputs": [],
   "source": [
    "import json\n",
    "\n",
    "folder_name = 'cfg'\n",
    "\n",
    "with open(\"{}/{}.json\".format(folder_name, \"symptom_list\"), \"w\") as file_path:\n",
    "    json.dump(numerical, file_path)\n",
    "\n",
    "with open(\"{}/{}.json\".format(folder_name, \"disease_list\"), \"w\") as file_path:\n",
    "    json.dump(disease2idx, file_path)\n"
   ]
  },
  {
   "cell_type": "code",
   "execution_count": 12,
   "metadata": {},
   "outputs": [],
   "source": [
    "from sklearn.preprocessing import RobustScaler\n",
    "\n",
    "cols = x_train.columns\n",
    "\n",
    "scaler = RobustScaler()\n",
    "\n",
    "x_train = scaler.fit_transform(x_train)\n",
    "\n",
    "x_test = scaler.transform(x_test)\n",
    "\n",
    "x_train = pd.DataFrame(x_train, columns=[cols])\n",
    "\n",
    "x_test = pd.DataFrame(x_test, columns=[cols])\n"
   ]
  },
  {
   "cell_type": "code",
   "execution_count": 13,
   "metadata": {},
   "outputs": [
    {
     "data": {
      "text/html": [
       "<div>\n",
       "<style scoped>\n",
       "    .dataframe tbody tr th:only-of-type {\n",
       "        vertical-align: middle;\n",
       "    }\n",
       "\n",
       "    .dataframe tbody tr th {\n",
       "        vertical-align: top;\n",
       "    }\n",
       "\n",
       "    .dataframe thead tr th {\n",
       "        text-align: left;\n",
       "    }\n",
       "</style>\n",
       "<table border=\"1\" class=\"dataframe\">\n",
       "  <thead>\n",
       "    <tr>\n",
       "      <th></th>\n",
       "      <th>hirap sa paghinga</th>\n",
       "      <th>pagsikip sa dibdib</th>\n",
       "      <th>ubo</th>\n",
       "      <th>pag-aagahas</th>\n",
       "      <th>pamumula sa balat</th>\n",
       "      <th>kati</th>\n",
       "      <th>pantal</th>\n",
       "      <th>kumapal yung balat</th>\n",
       "      <th>sensitibo</th>\n",
       "      <th>magaspang ang balat</th>\n",
       "      <th>...</th>\n",
       "      <th>masakit na pag-nguya</th>\n",
       "      <th>pamamaga nggilagid</th>\n",
       "      <th>hirap sa pag-utot</th>\n",
       "      <th>pananakit sa kanang tagiliran</th>\n",
       "      <th>pananakit ng kalamnan</th>\n",
       "      <th>pananakit ng kasu-kasuan</th>\n",
       "      <th>matamlay</th>\n",
       "      <th>matagal na pag-galing ng sugat</th>\n",
       "      <th>madalas umihi</th>\n",
       "      <th>madalas ang pagdumi</th>\n",
       "    </tr>\n",
       "  </thead>\n",
       "  <tbody>\n",
       "    <tr>\n",
       "      <th>0</th>\n",
       "      <td>0.0</td>\n",
       "      <td>0.0</td>\n",
       "      <td>0.0</td>\n",
       "      <td>0.0</td>\n",
       "      <td>0.0</td>\n",
       "      <td>0.0</td>\n",
       "      <td>0.0</td>\n",
       "      <td>0.0</td>\n",
       "      <td>0.0</td>\n",
       "      <td>0.0</td>\n",
       "      <td>...</td>\n",
       "      <td>0.0</td>\n",
       "      <td>0.0</td>\n",
       "      <td>0.0</td>\n",
       "      <td>0.0</td>\n",
       "      <td>0.0</td>\n",
       "      <td>0.0</td>\n",
       "      <td>0.0</td>\n",
       "      <td>0.0</td>\n",
       "      <td>0.0</td>\n",
       "      <td>0.0</td>\n",
       "    </tr>\n",
       "    <tr>\n",
       "      <th>1</th>\n",
       "      <td>0.0</td>\n",
       "      <td>0.0</td>\n",
       "      <td>0.0</td>\n",
       "      <td>0.0</td>\n",
       "      <td>0.0</td>\n",
       "      <td>0.0</td>\n",
       "      <td>0.0</td>\n",
       "      <td>0.0</td>\n",
       "      <td>0.0</td>\n",
       "      <td>0.0</td>\n",
       "      <td>...</td>\n",
       "      <td>0.0</td>\n",
       "      <td>0.0</td>\n",
       "      <td>0.0</td>\n",
       "      <td>0.0</td>\n",
       "      <td>0.0</td>\n",
       "      <td>0.0</td>\n",
       "      <td>0.0</td>\n",
       "      <td>0.0</td>\n",
       "      <td>0.0</td>\n",
       "      <td>1.0</td>\n",
       "    </tr>\n",
       "    <tr>\n",
       "      <th>2</th>\n",
       "      <td>0.0</td>\n",
       "      <td>0.0</td>\n",
       "      <td>0.0</td>\n",
       "      <td>0.0</td>\n",
       "      <td>0.0</td>\n",
       "      <td>0.0</td>\n",
       "      <td>0.0</td>\n",
       "      <td>0.0</td>\n",
       "      <td>0.0</td>\n",
       "      <td>0.0</td>\n",
       "      <td>...</td>\n",
       "      <td>0.0</td>\n",
       "      <td>0.0</td>\n",
       "      <td>0.0</td>\n",
       "      <td>0.0</td>\n",
       "      <td>0.0</td>\n",
       "      <td>0.0</td>\n",
       "      <td>0.0</td>\n",
       "      <td>0.0</td>\n",
       "      <td>0.0</td>\n",
       "      <td>0.0</td>\n",
       "    </tr>\n",
       "    <tr>\n",
       "      <th>3</th>\n",
       "      <td>0.0</td>\n",
       "      <td>0.0</td>\n",
       "      <td>0.0</td>\n",
       "      <td>0.0</td>\n",
       "      <td>0.0</td>\n",
       "      <td>0.0</td>\n",
       "      <td>0.0</td>\n",
       "      <td>0.0</td>\n",
       "      <td>0.0</td>\n",
       "      <td>0.0</td>\n",
       "      <td>...</td>\n",
       "      <td>0.0</td>\n",
       "      <td>0.0</td>\n",
       "      <td>0.0</td>\n",
       "      <td>0.0</td>\n",
       "      <td>0.0</td>\n",
       "      <td>0.0</td>\n",
       "      <td>0.0</td>\n",
       "      <td>0.0</td>\n",
       "      <td>0.0</td>\n",
       "      <td>0.0</td>\n",
       "    </tr>\n",
       "    <tr>\n",
       "      <th>4</th>\n",
       "      <td>1.0</td>\n",
       "      <td>0.0</td>\n",
       "      <td>1.0</td>\n",
       "      <td>1.0</td>\n",
       "      <td>0.0</td>\n",
       "      <td>0.0</td>\n",
       "      <td>0.0</td>\n",
       "      <td>0.0</td>\n",
       "      <td>0.0</td>\n",
       "      <td>0.0</td>\n",
       "      <td>...</td>\n",
       "      <td>0.0</td>\n",
       "      <td>0.0</td>\n",
       "      <td>0.0</td>\n",
       "      <td>0.0</td>\n",
       "      <td>0.0</td>\n",
       "      <td>0.0</td>\n",
       "      <td>0.0</td>\n",
       "      <td>0.0</td>\n",
       "      <td>0.0</td>\n",
       "      <td>0.0</td>\n",
       "    </tr>\n",
       "  </tbody>\n",
       "</table>\n",
       "<p>5 rows × 39 columns</p>\n",
       "</div>"
      ],
      "text/plain": [
       "  hirap sa paghinga pagsikip sa dibdib  ubo pag-aagahas pamumula sa balat  \\\n",
       "0               0.0                0.0  0.0         0.0               0.0   \n",
       "1               0.0                0.0  0.0         0.0               0.0   \n",
       "2               0.0                0.0  0.0         0.0               0.0   \n",
       "3               0.0                0.0  0.0         0.0               0.0   \n",
       "4               1.0                0.0  1.0         1.0               0.0   \n",
       "\n",
       "  kati pantal kumapal yung balat sensitibo magaspang ang balat  ...  \\\n",
       "0  0.0    0.0                0.0       0.0                 0.0  ...   \n",
       "1  0.0    0.0                0.0       0.0                 0.0  ...   \n",
       "2  0.0    0.0                0.0       0.0                 0.0  ...   \n",
       "3  0.0    0.0                0.0       0.0                 0.0  ...   \n",
       "4  0.0    0.0                0.0       0.0                 0.0  ...   \n",
       "\n",
       "  masakit na pag-nguya pamamaga nggilagid hirap sa pag-utot  \\\n",
       "0                  0.0                0.0               0.0   \n",
       "1                  0.0                0.0               0.0   \n",
       "2                  0.0                0.0               0.0   \n",
       "3                  0.0                0.0               0.0   \n",
       "4                  0.0                0.0               0.0   \n",
       "\n",
       "  pananakit sa kanang tagiliran pananakit ng kalamnan  \\\n",
       "0                           0.0                   0.0   \n",
       "1                           0.0                   0.0   \n",
       "2                           0.0                   0.0   \n",
       "3                           0.0                   0.0   \n",
       "4                           0.0                   0.0   \n",
       "\n",
       "  pananakit ng kasu-kasuan matamlay matagal na pag-galing ng sugat  \\\n",
       "0                      0.0      0.0                            0.0   \n",
       "1                      0.0      0.0                            0.0   \n",
       "2                      0.0      0.0                            0.0   \n",
       "3                      0.0      0.0                            0.0   \n",
       "4                      0.0      0.0                            0.0   \n",
       "\n",
       "  madalas umihi madalas ang pagdumi  \n",
       "0           0.0                 0.0  \n",
       "1           0.0                 1.0  \n",
       "2           0.0                 0.0  \n",
       "3           0.0                 0.0  \n",
       "4           0.0                 0.0  \n",
       "\n",
       "[5 rows x 39 columns]"
      ]
     },
     "execution_count": 13,
     "metadata": {},
     "output_type": "execute_result"
    }
   ],
   "source": [
    "x_train.head()"
   ]
  },
  {
   "cell_type": "code",
   "execution_count": 14,
   "metadata": {},
   "outputs": [
    {
     "data": {
      "text/plain": [
       "Index(['hirap sa paghinga', 'pagsikip sa dibdib', 'ubo', 'pag-aagahas',\n",
       "       'pamumula sa balat', 'kati', 'pantal', 'kumapal yung balat',\n",
       "       'sensitibo', 'magaspang ang balat', 'dugo sa plema',\n",
       "       'nabawasan ang timbang', 'nanghina ang katawan',\n",
       "       'nagpapawis tuwing gabi', 'nawalan ng gana kumain', 'nilalamig',\n",
       "       'lagnat', 'masakit ang katawan', 'masakit ang ulo', 'nagsusuka', 'hilo',\n",
       "       'ubong may plema', 'pagkawala ng panlasa', 'pagkawala ng pang amoy',\n",
       "       'barado ang ilong', 'masakit ang batok', 'paglabo ng paningin',\n",
       "       'sakit ng tiyan', 'mabilis na tibok ng puso', 'masakit na pag-nguya',\n",
       "       'pamamaga nggilagid', 'hirap sa pag-utot',\n",
       "       'pananakit sa kanang tagiliran', 'pananakit ng kalamnan',\n",
       "       'pananakit ng kasu-kasuan', 'matamlay',\n",
       "       'matagal na pag-galing ng sugat', 'madalas umihi',\n",
       "       'madalas ang pagdumi'],\n",
       "      dtype='object')"
      ]
     },
     "execution_count": 14,
     "metadata": {},
     "output_type": "execute_result"
    }
   ],
   "source": [
    "cols"
   ]
  },
  {
   "cell_type": "code",
   "execution_count": 15,
   "metadata": {},
   "outputs": [
    {
     "data": {
      "text/html": [
       "<style>#sk-container-id-1 {color: black;background-color: white;}#sk-container-id-1 pre{padding: 0;}#sk-container-id-1 div.sk-toggleable {background-color: white;}#sk-container-id-1 label.sk-toggleable__label {cursor: pointer;display: block;width: 100%;margin-bottom: 0;padding: 0.3em;box-sizing: border-box;text-align: center;}#sk-container-id-1 label.sk-toggleable__label-arrow:before {content: \"▸\";float: left;margin-right: 0.25em;color: #696969;}#sk-container-id-1 label.sk-toggleable__label-arrow:hover:before {color: black;}#sk-container-id-1 div.sk-estimator:hover label.sk-toggleable__label-arrow:before {color: black;}#sk-container-id-1 div.sk-toggleable__content {max-height: 0;max-width: 0;overflow: hidden;text-align: left;background-color: #f0f8ff;}#sk-container-id-1 div.sk-toggleable__content pre {margin: 0.2em;color: black;border-radius: 0.25em;background-color: #f0f8ff;}#sk-container-id-1 input.sk-toggleable__control:checked~div.sk-toggleable__content {max-height: 200px;max-width: 100%;overflow: auto;}#sk-container-id-1 input.sk-toggleable__control:checked~label.sk-toggleable__label-arrow:before {content: \"▾\";}#sk-container-id-1 div.sk-estimator input.sk-toggleable__control:checked~label.sk-toggleable__label {background-color: #d4ebff;}#sk-container-id-1 div.sk-label input.sk-toggleable__control:checked~label.sk-toggleable__label {background-color: #d4ebff;}#sk-container-id-1 input.sk-hidden--visually {border: 0;clip: rect(1px 1px 1px 1px);clip: rect(1px, 1px, 1px, 1px);height: 1px;margin: -1px;overflow: hidden;padding: 0;position: absolute;width: 1px;}#sk-container-id-1 div.sk-estimator {font-family: monospace;background-color: #f0f8ff;border: 1px dotted black;border-radius: 0.25em;box-sizing: border-box;margin-bottom: 0.5em;}#sk-container-id-1 div.sk-estimator:hover {background-color: #d4ebff;}#sk-container-id-1 div.sk-parallel-item::after {content: \"\";width: 100%;border-bottom: 1px solid gray;flex-grow: 1;}#sk-container-id-1 div.sk-label:hover label.sk-toggleable__label {background-color: #d4ebff;}#sk-container-id-1 div.sk-serial::before {content: \"\";position: absolute;border-left: 1px solid gray;box-sizing: border-box;top: 0;bottom: 0;left: 50%;z-index: 0;}#sk-container-id-1 div.sk-serial {display: flex;flex-direction: column;align-items: center;background-color: white;padding-right: 0.2em;padding-left: 0.2em;position: relative;}#sk-container-id-1 div.sk-item {position: relative;z-index: 1;}#sk-container-id-1 div.sk-parallel {display: flex;align-items: stretch;justify-content: center;background-color: white;position: relative;}#sk-container-id-1 div.sk-item::before, #sk-container-id-1 div.sk-parallel-item::before {content: \"\";position: absolute;border-left: 1px solid gray;box-sizing: border-box;top: 0;bottom: 0;left: 50%;z-index: -1;}#sk-container-id-1 div.sk-parallel-item {display: flex;flex-direction: column;z-index: 1;position: relative;background-color: white;}#sk-container-id-1 div.sk-parallel-item:first-child::after {align-self: flex-end;width: 50%;}#sk-container-id-1 div.sk-parallel-item:last-child::after {align-self: flex-start;width: 50%;}#sk-container-id-1 div.sk-parallel-item:only-child::after {width: 0;}#sk-container-id-1 div.sk-dashed-wrapped {border: 1px dashed gray;margin: 0 0.4em 0.5em 0.4em;box-sizing: border-box;padding-bottom: 0.4em;background-color: white;}#sk-container-id-1 div.sk-label label {font-family: monospace;font-weight: bold;display: inline-block;line-height: 1.2em;}#sk-container-id-1 div.sk-label-container {text-align: center;}#sk-container-id-1 div.sk-container {/* jupyter's `normalize.less` sets `[hidden] { display: none; }` but bootstrap.min.css set `[hidden] { display: none !important; }` so we also need the `!important` here to be able to override the default hidden behavior on the sphinx rendered scikit-learn.org. See: https://github.com/scikit-learn/scikit-learn/issues/21755 */display: inline-block !important;position: relative;}#sk-container-id-1 div.sk-text-repr-fallback {display: none;}</style><div id=\"sk-container-id-1\" class=\"sk-top-container\"><div class=\"sk-text-repr-fallback\"><pre>GaussianNB()</pre><b>In a Jupyter environment, please rerun this cell to show the HTML representation or trust the notebook. <br />On GitHub, the HTML representation is unable to render, please try loading this page with nbviewer.org.</b></div><div class=\"sk-container\" hidden><div class=\"sk-item\"><div class=\"sk-estimator sk-toggleable\"><input class=\"sk-toggleable__control sk-hidden--visually\" id=\"sk-estimator-id-1\" type=\"checkbox\" checked><label for=\"sk-estimator-id-1\" class=\"sk-toggleable__label sk-toggleable__label-arrow\">GaussianNB</label><div class=\"sk-toggleable__content\"><pre>GaussianNB()</pre></div></div></div></div></div>"
      ],
      "text/plain": [
       "GaussianNB()"
      ]
     },
     "execution_count": 15,
     "metadata": {},
     "output_type": "execute_result"
    }
   ],
   "source": [
    "# train a Gaussian Naive Bayes classifier on the training set\n",
    "from sklearn.naive_bayes import GaussianNB\n",
    "\n",
    "\n",
    "# instantiate the model\n",
    "naiveBayes = GaussianNB()\n",
    "\n",
    "\n",
    "# fit the model\n",
    "naiveBayes.fit(x_train, y_train)\n"
   ]
  },
  {
   "cell_type": "code",
   "execution_count": 16,
   "metadata": {},
   "outputs": [
    {
     "data": {
      "text/plain": [
       "array(['diarrhea', 'covid 19', 'diarrhea', 'covid 19'], dtype='<U11')"
      ]
     },
     "execution_count": 16,
     "metadata": {},
     "output_type": "execute_result"
    }
   ],
   "source": [
    "y_pred = naiveBayes.predict(x_test)\n",
    "\n",
    "y_pred\n"
   ]
  },
  {
   "cell_type": "code",
   "execution_count": 17,
   "metadata": {},
   "outputs": [
    {
     "name": "stdout",
     "output_type": "stream",
     "text": [
      "Model accuracy score: 0.5000\n"
     ]
    }
   ],
   "source": [
    "from sklearn.metrics import accuracy_score\n",
    "\n",
    "print('Model accuracy score: {0:0.4f}'. format(accuracy_score(y_test, y_pred)))\n"
   ]
  },
  {
   "cell_type": "code",
   "execution_count": 18,
   "metadata": {},
   "outputs": [
    {
     "data": {
      "text/plain": [
       "array(['diarrhea', 'diarrhea', 'altapresyon', 'migraine', 'asthma',\n",
       "       'toothache', 'flu', 'dengue', 'covid 19'], dtype='<U11')"
      ]
     },
     "execution_count": 18,
     "metadata": {},
     "output_type": "execute_result"
    }
   ],
   "source": [
    "y_pred_train = naiveBayes.predict(x_train)\n",
    "\n",
    "y_pred_train"
   ]
  },
  {
   "cell_type": "code",
   "execution_count": 19,
   "metadata": {},
   "outputs": [
    {
     "name": "stdout",
     "output_type": "stream",
     "text": [
      "Training-set accuracy score: 1.0000\n"
     ]
    }
   ],
   "source": [
    "print(\n",
    "    'Training-set accuracy score: {0:0.4f}'. format(accuracy_score(y_train, y_pred_train)))\n"
   ]
  },
  {
   "cell_type": "code",
   "execution_count": 20,
   "metadata": {},
   "outputs": [
    {
     "data": {
      "text/plain": [
       "covid 19        2\n",
       "diabetes        1\n",
       "appendicitis    1\n",
       "Name: result, dtype: int64"
      ]
     },
     "execution_count": 20,
     "metadata": {},
     "output_type": "execute_result"
    }
   ],
   "source": [
    "y_test.value_counts()"
   ]
  },
  {
   "cell_type": "code",
   "execution_count": 21,
   "metadata": {},
   "outputs": [],
   "source": [
    "import pickle\n",
    "\n",
    "# save\n",
    "with open('naiveBayes.pkl', 'wb') as f:\n",
    "    pickle.dump(naiveBayes, f)\n",
    "\n",
    "# load\n",
    "with open('naiveBayes.pkl', 'rb') as f:\n",
    "    diseasePredictionModel = pickle.load(f)"
   ]
  },
  {
   "cell_type": "code",
   "execution_count": 22,
   "metadata": {},
   "outputs": [],
   "source": [
    "import pickle\n",
    "\n",
    "# save\n",
    "with open('naiveBayes.pkl','wb') as f:\n",
    "    pickle.dump(naiveBayes,f)"
   ]
  }
 ],
 "metadata": {
  "kernelspec": {
   "display_name": "Python 3.10.6 64-bit",
   "language": "python",
   "name": "python3"
  },
  "language_info": {
   "codemirror_mode": {
    "name": "ipython",
    "version": 3
   },
   "file_extension": ".py",
   "mimetype": "text/x-python",
   "name": "python",
   "nbconvert_exporter": "python",
   "pygments_lexer": "ipython3",
   "version": "3.10.6"
  },
  "orig_nbformat": 4,
  "vscode": {
   "interpreter": {
    "hash": "369f2c481f4da34e4445cda3fffd2e751bd1c4d706f27375911949ba6bb62e1c"
   }
  }
 },
 "nbformat": 4,
 "nbformat_minor": 2
}
