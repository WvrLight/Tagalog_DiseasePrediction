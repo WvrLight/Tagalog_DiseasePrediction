{
 "cells": [
  {
   "cell_type": "code",
   "execution_count": 175,
   "metadata": {},
   "outputs": [],
   "source": [
    "import numpy as np  # linear algebra\n",
    "import pandas as pd  # data processing, CSV file I/O (e.g. pd.read_csv)\n",
    "import tensorflow as tf\n",
    "import tensorflow_addons as tfa\n",
    "\n",
    "from math import nan\n",
    "from tensorflow.keras.callbacks import ModelCheckpoint\n"
   ]
  },
  {
   "cell_type": "code",
   "execution_count": 176,
   "metadata": {},
   "outputs": [],
   "source": [
    "dataset = pd.read_csv(\"./data/ner.csv\")"
   ]
  },
  {
   "cell_type": "code",
   "execution_count": 177,
   "metadata": {},
   "outputs": [],
   "source": [
    "dataset = dataset.dropna(axis=0)"
   ]
  },
  {
   "cell_type": "code",
   "execution_count": 178,
   "metadata": {},
   "outputs": [],
   "source": [
    "class SentenceGetter(object):\n",
    "\n",
    "    def __init__(self, dataset):\n",
    "        self.n_sent = 1\n",
    "        self.dataset = dataset\n",
    "        self.empty = False\n",
    "        def agg_func(s): return [(w, t) for w, t in zip(s[\"word\"].values.tolist(),\n",
    "                                                        s[\"tag\"].values.tolist())]\n",
    "        self.grouped = self.dataset.groupby(\"sentence_idx\").apply(agg_func)\n",
    "        self.sentences = [s for s in self.grouped]\n",
    "\n",
    "    def get_next(self):\n",
    "        try:\n",
    "            s = self.grouped[\"Sentence: {}\".format(self.n_sent)]\n",
    "            self.n_sent += 1\n",
    "            return s\n",
    "        except:\n",
    "            return None"
   ]
  },
  {
   "cell_type": "code",
   "execution_count": 179,
   "metadata": {},
   "outputs": [],
   "source": [
    "getter = SentenceGetter(dataset)"
   ]
  },
  {
   "cell_type": "code",
   "execution_count": 180,
   "metadata": {},
   "outputs": [
    {
     "name": "stdout",
     "output_type": "stream",
     "text": [
      "[('din', 'O'), ('sikip', 'B-SYMPTOM'), ('dibdib', 'I-SYMPTOM'), ('ranas', 'O'), ('ubo', 'B-SYMPTOM')]\n"
     ]
    }
   ],
   "source": [
    "sentences = getter.sentences\n",
    "\n",
    "print(sentences[1])\n"
   ]
  },
  {
   "cell_type": "code",
   "execution_count": 181,
   "metadata": {},
   "outputs": [
    {
     "name": "stdout",
     "output_type": "stream",
     "text": [
      "Maximum sequence length: 8\n"
     ]
    }
   ],
   "source": [
    "maxlen = max([len(s) for s in sentences])\n",
    "print('Maximum sequence length:', maxlen)\n"
   ]
  },
  {
   "cell_type": "code",
   "execution_count": 182,
   "metadata": {},
   "outputs": [
    {
     "name": "stdout",
     "output_type": "stream",
     "text": [
      "['O', 'B-SYMPTOM', 'I-SYMPTOM']\n"
     ]
    }
   ],
   "source": [
    "tags = []\n",
    "for tag in set(dataset[\"tag\"].values):\n",
    "    if tag is nan or isinstance(tag, float):\n",
    "        tags.append('UNKNOWN')\n",
    "    else:\n",
    "        tags.append(tag)\n",
    "print(tags)\n"
   ]
  },
  {
   "cell_type": "code",
   "execution_count": 183,
   "metadata": {},
   "outputs": [
    {
     "data": {
      "text/plain": [
       "3"
      ]
     },
     "execution_count": 183,
     "metadata": {},
     "output_type": "execute_result"
    }
   ],
   "source": [
    "n_tags = len(tags)\n",
    "n_tags\n"
   ]
  },
  {
   "cell_type": "code",
   "execution_count": 184,
   "metadata": {},
   "outputs": [
    {
     "data": {
      "text/plain": [
       "77"
      ]
     },
     "execution_count": 184,
     "metadata": {},
     "output_type": "execute_result"
    }
   ],
   "source": [
    "words = list(set(dataset[\"word\"].values))\n",
    "words.append(\"END\")\n",
    "words.append(\"UNKNOWN\")\n",
    "\n",
    "n_words = len(words)\n",
    "n_words"
   ]
  },
  {
   "cell_type": "code",
   "execution_count": 185,
   "metadata": {},
   "outputs": [],
   "source": [
    "from future.utils import iteritems\n",
    "word2idx = {w: i for i, w in enumerate(words)}\n",
    "tag2idx = {t: i for i, t in enumerate(tags)}\n",
    "idx2tag = {v: k for k, v in iteritems(tag2idx)}\n"
   ]
  },
  {
   "cell_type": "code",
   "execution_count": 186,
   "metadata": {},
   "outputs": [],
   "source": [
    "from keras.utils.data_utils import pad_sequences\n",
    "x = [[word2idx[w[0]] for w in s] for s in sentences]"
   ]
  },
  {
   "cell_type": "code",
   "execution_count": 187,
   "metadata": {},
   "outputs": [],
   "source": [
    "x = pad_sequences(maxlen=maxlen, sequences=x, padding=\"post\", value=n_words - 1)"
   ]
  },
  {
   "cell_type": "code",
   "execution_count": 188,
   "metadata": {},
   "outputs": [],
   "source": [
    "y_idx = [[tag2idx[w[1]] for w in s] for s in sentences]"
   ]
  },
  {
   "cell_type": "code",
   "execution_count": 189,
   "metadata": {},
   "outputs": [],
   "source": [
    "y = pad_sequences(maxlen=maxlen, sequences=y_idx, padding=\"post\", value=tag2idx[\"O\"])"
   ]
  },
  {
   "cell_type": "code",
   "execution_count": 191,
   "metadata": {},
   "outputs": [],
   "source": [
    "from sklearn.model_selection import train_test_split\n",
    "x_train, x_test, y_train, y_test = train_test_split(x, y, test_size=0.3, random_state = 0)"
   ]
  },
  {
   "cell_type": "code",
   "execution_count": 192,
   "metadata": {},
   "outputs": [],
   "source": [
    "from keras.utils import to_categorical\n",
    "y_test_categorical = [to_categorical(i, num_classes=n_tags) for i in y_test]\n"
   ]
  },
  {
   "cell_type": "code",
   "execution_count": 193,
   "metadata": {},
   "outputs": [
    {
     "data": {
      "text/plain": [
       "(33, 8)"
      ]
     },
     "execution_count": 193,
     "metadata": {},
     "output_type": "execute_result"
    }
   ],
   "source": [
    "x_train.shape\n"
   ]
  },
  {
   "cell_type": "code",
   "execution_count": 194,
   "metadata": {},
   "outputs": [],
   "source": [
    "from tensorflow.keras.models import Model\n",
    "from tensorflow.keras.layers import LSTM, GRU, Embedding, Dense, TimeDistributed, Bidirectional, Activation\n",
    "from tensorflow.keras import Sequential\n"
   ]
  },
  {
   "cell_type": "code",
   "execution_count": 195,
   "metadata": {},
   "outputs": [],
   "source": [
    "#x_train = tf.convert_to_tensor(x_train, dtype=tf.float32)\n",
    "#y_train = tf.convert_to_tensor(y_train, dtype=tf.float32)\n",
    "#x_test = tf.convert_to_tensor(x_test, dtype=tf.float32)\n",
    "#y_test = tf.convert_to_tensor(y_test, dtype=tf.float32)\n"
   ]
  },
  {
   "cell_type": "code",
   "execution_count": 196,
   "metadata": {},
   "outputs": [],
   "source": [
    "#from tensorflow_addons.layers.crf import CRF\n",
    "#from keras_crf import CRFModel\n",
    "from tf2crf import CRF, ModelWithCRFLoss\n",
    "\n",
    "MODEL_TYPE = 'GRU'\n",
    "\n",
    "word_embedding_size = 300\n",
    "\n",
    "inputs = tf.keras.layers.Input(shape=(None,), dtype='int32')\n",
    "output = Embedding(n_words, word_embedding_size, trainable=True, mask_zero=True)(inputs)\n",
    "if (MODEL_TYPE == 'LSTM'):\n",
    "  bi_rnn = Bidirectional(LSTM(units=word_embedding_size,\n",
    "                            return_sequences=True,\n",
    "                            dropout=0.5,\n",
    "                            recurrent_dropout=0.5,\n",
    "                              kernel_initializer=tf.keras.initializers.he_normal()))(output)\n",
    "  rnn = LSTM(units=word_embedding_size * 2,\n",
    "                              return_sequences=True,\n",
    "                              dropout=0.5,\n",
    "                              recurrent_dropout=0.5,\n",
    "                              kernel_initializer=tf.keras.initializers.he_normal())(bi_rnn)\n",
    "else:\n",
    "  bi_rnn = Bidirectional(GRU(units=word_embedding_size,\n",
    "                              return_sequences=True,\n",
    "                              dropout=0.5,\n",
    "                              recurrent_dropout=0.5,\n",
    "                              kernel_initializer=tf.keras.initializers.he_normal()))(output)\n",
    "  rnn = GRU(units=word_embedding_size * 2,\n",
    "             return_sequences=True,\n",
    "             dropout=0.5,\n",
    "             recurrent_dropout=0.5,\n",
    "             kernel_initializer=tf.keras.initializers.he_normal())(bi_rnn)\n",
    "crf = CRF(units=n_tags, dtype='float32')\n",
    "output = crf(rnn)\n",
    "base_model = Model(inputs, output)\n",
    "model = ModelWithCRFLoss(base_model, sparse_target=True)\n"
   ]
  },
  {
   "cell_type": "code",
   "execution_count": 197,
   "metadata": {},
   "outputs": [],
   "source": [
    "adam = tf.keras.optimizers.Adam(learning_rate=0.0005, beta_1=0.9, beta_2=0.999)\n",
    "model.compile(\n",
    "    optimizer=adam,\n",
    "    metrics=['acc'],\n",
    "    loss=\"categorical_crossentropy\"\n",
    ")"
   ]
  },
  {
   "cell_type": "code",
   "execution_count": 198,
   "metadata": {},
   "outputs": [
    {
     "name": "stdout",
     "output_type": "stream",
     "text": [
      "Model: \"model_with_crf_loss_5\"\n",
      "_________________________________________________________________\n",
      " Layer (type)                Output Shape              Param #   \n",
      "=================================================================\n",
      " model_5 (Functional)        ((None, None),            3272112   \n",
      "                              (None, None, 3),                   \n",
      "                              (None,),                           \n",
      "                              (3, 3))                            \n",
      "                                                                 \n",
      "=================================================================\n",
      "Total params: 3,272,116\n",
      "Trainable params: 3,272,112\n",
      "Non-trainable params: 4\n",
      "_________________________________________________________________\n"
     ]
    }
   ],
   "source": [
    "model.build(x.shape)\n",
    "model.summary()"
   ]
  },
  {
   "cell_type": "code",
   "execution_count": 199,
   "metadata": {},
   "outputs": [],
   "source": [
    "# Saving the best only\n",
    "# if (MODEL_TYPE == 'LSTM'):\n",
    "#     filepath = \"bilstm.h5\"\n",
    "# else:\n",
    "#     filepath = \"bigru.h5\"\n",
    "# checkpoint = ModelCheckpoint(filepath, monitor='val_val_accuracy', verbose=1, save_best_only=True, mode='max')\n",
    "# callbacks_list = [checkpoint]"
   ]
  },
  {
   "cell_type": "code",
   "execution_count": 200,
   "metadata": {},
   "outputs": [
    {
     "name": "stdout",
     "output_type": "stream",
     "text": [
      "Epoch 1/200\n",
      "1/1 [==============================] - 22s 22s/step - loss: 9.5241 - accuracy: 0.1082 - val_loss_val: 9.0879 - val_val_accuracy: 0.3438\n",
      "Epoch 2/200\n",
      "1/1 [==============================] - 0s 390ms/step - loss: 8.3264 - accuracy: 0.3593 - val_loss_val: 8.5770 - val_val_accuracy: 0.4375\n",
      "Epoch 3/200\n",
      "1/1 [==============================] - 0s 417ms/step - loss: 7.4778 - accuracy: 0.6061 - val_loss_val: 7.9991 - val_val_accuracy: 0.6562\n",
      "Epoch 4/200\n",
      "1/1 [==============================] - 0s 420ms/step - loss: 7.0451 - accuracy: 0.6364 - val_loss_val: 7.8385 - val_val_accuracy: 0.5000\n",
      "Epoch 5/200\n",
      "1/1 [==============================] - 0s 428ms/step - loss: 6.9157 - accuracy: 0.6277 - val_loss_val: 7.5330 - val_val_accuracy: 0.6562\n",
      "Epoch 6/200\n",
      "1/1 [==============================] - 1s 519ms/step - loss: 6.8753 - accuracy: 0.6364 - val_loss_val: 7.6076 - val_val_accuracy: 0.6562\n",
      "Epoch 7/200\n",
      "1/1 [==============================] - 1s 559ms/step - loss: 6.8084 - accuracy: 0.6364 - val_loss_val: 7.4334 - val_val_accuracy: 0.6562\n",
      "Epoch 8/200\n",
      "1/1 [==============================] - 1s 706ms/step - loss: 6.7092 - accuracy: 0.6364 - val_loss_val: 7.3121 - val_val_accuracy: 0.6875\n",
      "Epoch 9/200\n",
      "1/1 [==============================] - 1s 519ms/step - loss: 6.5469 - accuracy: 0.6320 - val_loss_val: 7.2340 - val_val_accuracy: 0.6875\n",
      "Epoch 10/200\n",
      "1/1 [==============================] - 1s 553ms/step - loss: 6.4764 - accuracy: 0.6407 - val_loss_val: 7.7194 - val_val_accuracy: 0.5000\n",
      "Epoch 11/200\n",
      "1/1 [==============================] - 0s 471ms/step - loss: 6.3378 - accuracy: 0.6797 - val_loss_val: 7.5286 - val_val_accuracy: 0.5000\n",
      "Epoch 12/200\n",
      "1/1 [==============================] - 1s 553ms/step - loss: 6.2638 - accuracy: 0.6840 - val_loss_val: 7.6057 - val_val_accuracy: 0.6562\n",
      "Epoch 13/200\n",
      "1/1 [==============================] - 1s 715ms/step - loss: 6.2152 - accuracy: 0.6883 - val_loss_val: 7.5446 - val_val_accuracy: 0.6562\n",
      "Epoch 14/200\n",
      "1/1 [==============================] - 1s 600ms/step - loss: 6.1243 - accuracy: 0.6840 - val_loss_val: 7.6874 - val_val_accuracy: 0.5000\n",
      "Epoch 15/200\n",
      "1/1 [==============================] - 1s 585ms/step - loss: 6.0526 - accuracy: 0.6926 - val_loss_val: 7.7724 - val_val_accuracy: 0.5000\n",
      "Epoch 16/200\n",
      "1/1 [==============================] - 1s 676ms/step - loss: 5.9531 - accuracy: 0.7013 - val_loss_val: 7.5500 - val_val_accuracy: 0.5000\n",
      "Epoch 17/200\n",
      "1/1 [==============================] - 1s 602ms/step - loss: 5.7699 - accuracy: 0.7100 - val_loss_val: 7.4627 - val_val_accuracy: 0.6562\n",
      "Epoch 18/200\n",
      "1/1 [==============================] - 1s 547ms/step - loss: 5.6497 - accuracy: 0.7100 - val_loss_val: 7.2900 - val_val_accuracy: 0.5312\n",
      "Epoch 19/200\n",
      "1/1 [==============================] - 1s 556ms/step - loss: 5.5860 - accuracy: 0.7143 - val_loss_val: 7.3174 - val_val_accuracy: 0.6562\n",
      "Epoch 20/200\n",
      "1/1 [==============================] - 1s 517ms/step - loss: 5.5100 - accuracy: 0.6970 - val_loss_val: 7.0130 - val_val_accuracy: 0.6250\n",
      "Epoch 21/200\n",
      "1/1 [==============================] - 1s 568ms/step - loss: 5.3488 - accuracy: 0.7100 - val_loss_val: 7.2056 - val_val_accuracy: 0.6562\n",
      "Epoch 22/200\n",
      "1/1 [==============================] - 1s 615ms/step - loss: 5.3153 - accuracy: 0.6970 - val_loss_val: 7.0424 - val_val_accuracy: 0.6562\n",
      "Epoch 23/200\n",
      "1/1 [==============================] - 1s 535ms/step - loss: 5.2149 - accuracy: 0.7143 - val_loss_val: 6.8846 - val_val_accuracy: 0.6875\n",
      "Epoch 24/200\n",
      "1/1 [==============================] - 1s 594ms/step - loss: 5.0559 - accuracy: 0.7100 - val_loss_val: 6.9124 - val_val_accuracy: 0.6562\n",
      "Epoch 25/200\n",
      "1/1 [==============================] - 1s 580ms/step - loss: 4.8046 - accuracy: 0.7273 - val_loss_val: 6.5520 - val_val_accuracy: 0.6875\n",
      "Epoch 26/200\n",
      "1/1 [==============================] - 1s 518ms/step - loss: 4.6929 - accuracy: 0.7186 - val_loss_val: 6.7999 - val_val_accuracy: 0.6562\n",
      "Epoch 27/200\n",
      "1/1 [==============================] - 1s 516ms/step - loss: 4.6090 - accuracy: 0.7532 - val_loss_val: 6.6327 - val_val_accuracy: 0.6562\n",
      "Epoch 28/200\n",
      "1/1 [==============================] - 1s 528ms/step - loss: 4.4107 - accuracy: 0.7576 - val_loss_val: 6.3726 - val_val_accuracy: 0.6562\n",
      "Epoch 29/200\n",
      "1/1 [==============================] - 1s 536ms/step - loss: 4.2961 - accuracy: 0.7576 - val_loss_val: 6.4051 - val_val_accuracy: 0.6562\n",
      "Epoch 30/200\n",
      "1/1 [==============================] - 1s 579ms/step - loss: 4.1440 - accuracy: 0.7532 - val_loss_val: 6.3651 - val_val_accuracy: 0.6562\n",
      "Epoch 31/200\n",
      "1/1 [==============================] - 1s 529ms/step - loss: 3.9368 - accuracy: 0.7706 - val_loss_val: 6.5213 - val_val_accuracy: 0.6562\n",
      "Epoch 32/200\n",
      "1/1 [==============================] - 1s 592ms/step - loss: 3.8379 - accuracy: 0.7965 - val_loss_val: 6.0937 - val_val_accuracy: 0.6875\n",
      "Epoch 33/200\n",
      "1/1 [==============================] - 1s 513ms/step - loss: 3.5573 - accuracy: 0.8095 - val_loss_val: 6.3809 - val_val_accuracy: 0.6562\n",
      "Epoch 34/200\n",
      "1/1 [==============================] - 0s 455ms/step - loss: 3.3915 - accuracy: 0.8182 - val_loss_val: 6.1040 - val_val_accuracy: 0.6875\n",
      "Epoch 35/200\n",
      "1/1 [==============================] - 0s 404ms/step - loss: 3.1892 - accuracy: 0.8442 - val_loss_val: 6.2259 - val_val_accuracy: 0.7188\n",
      "Epoch 36/200\n",
      "1/1 [==============================] - 0s 420ms/step - loss: 3.0024 - accuracy: 0.8442 - val_loss_val: 6.0930 - val_val_accuracy: 0.6562\n",
      "Epoch 37/200\n",
      "1/1 [==============================] - 0s 444ms/step - loss: 2.7726 - accuracy: 0.8485 - val_loss_val: 6.0854 - val_val_accuracy: 0.7188\n",
      "Epoch 38/200\n",
      "1/1 [==============================] - 0s 470ms/step - loss: 2.6832 - accuracy: 0.8788 - val_loss_val: 5.4209 - val_val_accuracy: 0.6875\n",
      "Epoch 39/200\n",
      "1/1 [==============================] - 0s 471ms/step - loss: 2.5812 - accuracy: 0.8658 - val_loss_val: 5.1628 - val_val_accuracy: 0.7500\n",
      "Epoch 40/200\n",
      "1/1 [==============================] - 0s 444ms/step - loss: 2.4259 - accuracy: 0.8571 - val_loss_val: 5.8870 - val_val_accuracy: 0.6875\n",
      "Epoch 41/200\n",
      "1/1 [==============================] - 0s 461ms/step - loss: 2.1355 - accuracy: 0.8918 - val_loss_val: 4.9660 - val_val_accuracy: 0.7500\n",
      "Epoch 42/200\n",
      "1/1 [==============================] - 0s 415ms/step - loss: 2.0324 - accuracy: 0.9004 - val_loss_val: 5.0268 - val_val_accuracy: 0.7188\n",
      "Epoch 43/200\n",
      "1/1 [==============================] - 0s 413ms/step - loss: 1.7779 - accuracy: 0.9177 - val_loss_val: 5.5000 - val_val_accuracy: 0.7500\n",
      "Epoch 44/200\n",
      "1/1 [==============================] - 0s 413ms/step - loss: 1.5976 - accuracy: 0.9264 - val_loss_val: 4.3525 - val_val_accuracy: 0.7188\n",
      "Epoch 45/200\n",
      "1/1 [==============================] - 0s 397ms/step - loss: 1.4960 - accuracy: 0.9307 - val_loss_val: 4.5676 - val_val_accuracy: 0.6875\n",
      "Epoch 46/200\n",
      "1/1 [==============================] - 0s 436ms/step - loss: 1.2990 - accuracy: 0.9307 - val_loss_val: 3.9851 - val_val_accuracy: 0.7812\n",
      "Epoch 47/200\n",
      "1/1 [==============================] - 0s 428ms/step - loss: 1.0634 - accuracy: 0.9610 - val_loss_val: 3.7780 - val_val_accuracy: 0.8125\n",
      "Epoch 48/200\n",
      "1/1 [==============================] - 0s 478ms/step - loss: 1.1265 - accuracy: 0.9567 - val_loss_val: 4.0160 - val_val_accuracy: 0.7812\n",
      "Epoch 49/200\n",
      "1/1 [==============================] - 0s 419ms/step - loss: 0.9288 - accuracy: 0.9610 - val_loss_val: 3.7194 - val_val_accuracy: 0.8125\n",
      "Epoch 50/200\n",
      "1/1 [==============================] - 0s 386ms/step - loss: 0.9650 - accuracy: 0.9610 - val_loss_val: 3.2442 - val_val_accuracy: 0.7812\n",
      "Epoch 51/200\n",
      "1/1 [==============================] - 0s 405ms/step - loss: 0.7731 - accuracy: 0.9697 - val_loss_val: 3.5442 - val_val_accuracy: 0.7812\n",
      "Epoch 52/200\n",
      "1/1 [==============================] - 0s 351ms/step - loss: 0.6803 - accuracy: 0.9784 - val_loss_val: 4.0757 - val_val_accuracy: 0.7812\n",
      "Epoch 53/200\n",
      "1/1 [==============================] - 0s 352ms/step - loss: 0.6597 - accuracy: 0.9740 - val_loss_val: 4.1011 - val_val_accuracy: 0.7188\n",
      "Epoch 54/200\n",
      "1/1 [==============================] - 0s 363ms/step - loss: 0.5708 - accuracy: 0.9827 - val_loss_val: 3.5874 - val_val_accuracy: 0.7812\n",
      "Epoch 55/200\n",
      "1/1 [==============================] - 0s 354ms/step - loss: 0.5212 - accuracy: 0.9740 - val_loss_val: 5.6464 - val_val_accuracy: 0.7812\n",
      "Epoch 56/200\n",
      "1/1 [==============================] - 0s 348ms/step - loss: 0.4729 - accuracy: 0.9784 - val_loss_val: 3.3893 - val_val_accuracy: 0.7500\n",
      "Epoch 57/200\n",
      "1/1 [==============================] - 0s 364ms/step - loss: 0.4198 - accuracy: 0.9827 - val_loss_val: 3.9577 - val_val_accuracy: 0.7812\n",
      "Epoch 58/200\n",
      "1/1 [==============================] - 0s 362ms/step - loss: 0.4232 - accuracy: 0.9697 - val_loss_val: 4.0453 - val_val_accuracy: 0.8438\n",
      "Epoch 59/200\n",
      "1/1 [==============================] - 0s 374ms/step - loss: 0.4246 - accuracy: 0.9827 - val_loss_val: 3.7474 - val_val_accuracy: 0.8125\n",
      "Epoch 60/200\n",
      "1/1 [==============================] - 0s 376ms/step - loss: 0.3140 - accuracy: 0.9870 - val_loss_val: 3.7926 - val_val_accuracy: 0.7812\n",
      "Epoch 61/200\n",
      "1/1 [==============================] - 0s 371ms/step - loss: 0.4479 - accuracy: 0.9740 - val_loss_val: 4.1308 - val_val_accuracy: 0.7812\n",
      "Epoch 62/200\n",
      "1/1 [==============================] - 0s 357ms/step - loss: 0.3031 - accuracy: 0.9913 - val_loss_val: 2.9402 - val_val_accuracy: 0.8750\n",
      "Epoch 63/200\n",
      "1/1 [==============================] - 0s 349ms/step - loss: 0.2800 - accuracy: 0.9913 - val_loss_val: 3.2514 - val_val_accuracy: 0.8750\n",
      "Epoch 64/200\n",
      "1/1 [==============================] - 0s 351ms/step - loss: 0.2415 - accuracy: 0.9913 - val_loss_val: 4.3794 - val_val_accuracy: 0.8438\n",
      "Epoch 65/200\n",
      "1/1 [==============================] - 0s 357ms/step - loss: 0.3347 - accuracy: 0.9870 - val_loss_val: 3.0550 - val_val_accuracy: 0.8438\n",
      "Epoch 66/200\n",
      "1/1 [==============================] - 0s 347ms/step - loss: 0.3327 - accuracy: 0.9827 - val_loss_val: 3.5469 - val_val_accuracy: 0.8438\n",
      "Epoch 67/200\n",
      "1/1 [==============================] - 0s 349ms/step - loss: 0.2751 - accuracy: 0.9913 - val_loss_val: 2.0493 - val_val_accuracy: 0.9375\n",
      "Epoch 68/200\n",
      "1/1 [==============================] - 0s 389ms/step - loss: 0.3448 - accuracy: 0.9870 - val_loss_val: 2.9216 - val_val_accuracy: 0.8438\n",
      "Epoch 69/200\n",
      "1/1 [==============================] - 0s 364ms/step - loss: 0.2213 - accuracy: 0.9913 - val_loss_val: 3.2690 - val_val_accuracy: 0.8438\n",
      "Epoch 70/200\n",
      "1/1 [==============================] - 0s 373ms/step - loss: 0.1984 - accuracy: 0.9957 - val_loss_val: 2.4969 - val_val_accuracy: 0.9375\n",
      "Epoch 71/200\n",
      "1/1 [==============================] - 0s 384ms/step - loss: 0.2047 - accuracy: 0.9913 - val_loss_val: 3.0930 - val_val_accuracy: 0.8750\n",
      "Epoch 72/200\n",
      "1/1 [==============================] - 0s 376ms/step - loss: 0.2566 - accuracy: 0.9870 - val_loss_val: 3.4582 - val_val_accuracy: 0.9062\n",
      "Epoch 73/200\n",
      "1/1 [==============================] - 0s 378ms/step - loss: 0.1688 - accuracy: 0.9957 - val_loss_val: 3.5588 - val_val_accuracy: 0.9062\n",
      "Epoch 74/200\n",
      "1/1 [==============================] - 0s 357ms/step - loss: 0.1390 - accuracy: 0.9957 - val_loss_val: 3.2903 - val_val_accuracy: 0.8750\n",
      "Epoch 75/200\n",
      "1/1 [==============================] - 0s 350ms/step - loss: 0.1962 - accuracy: 0.9957 - val_loss_val: 3.3453 - val_val_accuracy: 0.8125\n",
      "Epoch 76/200\n",
      "1/1 [==============================] - 0s 394ms/step - loss: 0.2048 - accuracy: 0.9913 - val_loss_val: 2.9316 - val_val_accuracy: 0.8750\n",
      "Epoch 77/200\n",
      "1/1 [==============================] - 0s 367ms/step - loss: 0.1970 - accuracy: 0.9913 - val_loss_val: 3.8233 - val_val_accuracy: 0.8438\n",
      "Epoch 78/200\n",
      "1/1 [==============================] - 0s 376ms/step - loss: 0.2152 - accuracy: 0.9913 - val_loss_val: 3.9330 - val_val_accuracy: 0.9062\n",
      "Epoch 79/200\n",
      "1/1 [==============================] - 0s 370ms/step - loss: 0.2261 - accuracy: 0.9870 - val_loss_val: 4.1547 - val_val_accuracy: 0.8750\n",
      "Epoch 80/200\n",
      "1/1 [==============================] - 0s 359ms/step - loss: 0.1903 - accuracy: 0.9870 - val_loss_val: 3.0820 - val_val_accuracy: 0.8438\n",
      "Epoch 81/200\n",
      "1/1 [==============================] - 0s 387ms/step - loss: 0.0853 - accuracy: 0.9957 - val_loss_val: 3.7231 - val_val_accuracy: 0.9375\n",
      "Epoch 82/200\n",
      "1/1 [==============================] - 0s 384ms/step - loss: 0.1427 - accuracy: 0.9957 - val_loss_val: 3.2876 - val_val_accuracy: 0.8750\n",
      "Epoch 83/200\n",
      "1/1 [==============================] - 0s 367ms/step - loss: 0.1011 - accuracy: 1.0000 - val_loss_val: 3.3600 - val_val_accuracy: 0.8750\n",
      "Epoch 84/200\n",
      "1/1 [==============================] - 0s 416ms/step - loss: 0.1482 - accuracy: 0.9957 - val_loss_val: 4.2600 - val_val_accuracy: 0.8750\n",
      "Epoch 85/200\n",
      "1/1 [==============================] - 0s 390ms/step - loss: 0.1396 - accuracy: 0.9913 - val_loss_val: 3.2139 - val_val_accuracy: 0.8438\n",
      "Epoch 86/200\n",
      "1/1 [==============================] - 0s 383ms/step - loss: 0.1005 - accuracy: 0.9957 - val_loss_val: 2.7918 - val_val_accuracy: 0.8750\n",
      "Epoch 87/200\n",
      "1/1 [==============================] - 0s 412ms/step - loss: 0.0904 - accuracy: 1.0000 - val_loss_val: 3.6884 - val_val_accuracy: 0.8750\n",
      "Epoch 88/200\n",
      "1/1 [==============================] - 0s 404ms/step - loss: 0.0927 - accuracy: 0.9957 - val_loss_val: 4.3318 - val_val_accuracy: 0.8438\n",
      "Epoch 89/200\n",
      "1/1 [==============================] - 0s 411ms/step - loss: 0.0818 - accuracy: 0.9957 - val_loss_val: 3.4990 - val_val_accuracy: 0.8125\n",
      "Epoch 90/200\n",
      "1/1 [==============================] - 0s 416ms/step - loss: 0.1333 - accuracy: 0.9957 - val_loss_val: 4.2149 - val_val_accuracy: 0.8125\n",
      "Epoch 91/200\n",
      "1/1 [==============================] - 0s 409ms/step - loss: 0.2231 - accuracy: 0.9870 - val_loss_val: 2.5718 - val_val_accuracy: 0.8750\n",
      "Epoch 92/200\n",
      "1/1 [==============================] - 0s 426ms/step - loss: 0.0778 - accuracy: 1.0000 - val_loss_val: 4.6133 - val_val_accuracy: 0.8438\n",
      "Epoch 93/200\n",
      "1/1 [==============================] - 0s 444ms/step - loss: 0.1391 - accuracy: 0.9913 - val_loss_val: 4.6876 - val_val_accuracy: 0.8125\n",
      "Epoch 94/200\n",
      "1/1 [==============================] - 0s 484ms/step - loss: 0.1063 - accuracy: 0.9957 - val_loss_val: 3.9365 - val_val_accuracy: 0.8438\n",
      "Epoch 95/200\n",
      "1/1 [==============================] - 0s 469ms/step - loss: 0.1830 - accuracy: 0.9870 - val_loss_val: 4.4420 - val_val_accuracy: 0.8438\n",
      "Epoch 96/200\n",
      "1/1 [==============================] - 0s 419ms/step - loss: 0.1586 - accuracy: 0.9957 - val_loss_val: 3.6960 - val_val_accuracy: 0.8438\n",
      "Epoch 97/200\n",
      "1/1 [==============================] - 0s 446ms/step - loss: 0.1032 - accuracy: 0.9913 - val_loss_val: 3.8924 - val_val_accuracy: 0.8750\n",
      "Epoch 98/200\n",
      "1/1 [==============================] - 0s 406ms/step - loss: 0.0808 - accuracy: 0.9957 - val_loss_val: 4.2241 - val_val_accuracy: 0.8125\n",
      "Epoch 99/200\n",
      "1/1 [==============================] - 0s 457ms/step - loss: 0.1299 - accuracy: 0.9913 - val_loss_val: 4.3090 - val_val_accuracy: 0.8438\n",
      "Epoch 100/200\n",
      "1/1 [==============================] - 0s 413ms/step - loss: 0.1407 - accuracy: 0.9957 - val_loss_val: 2.6842 - val_val_accuracy: 0.9062\n",
      "Epoch 101/200\n",
      "1/1 [==============================] - 0s 370ms/step - loss: 0.0813 - accuracy: 0.9957 - val_loss_val: 4.2208 - val_val_accuracy: 0.7812\n",
      "Epoch 102/200\n",
      "1/1 [==============================] - 0s 414ms/step - loss: 0.0506 - accuracy: 1.0000 - val_loss_val: 2.6068 - val_val_accuracy: 0.9375\n",
      "Epoch 103/200\n",
      "1/1 [==============================] - 0s 483ms/step - loss: 0.1362 - accuracy: 0.9957 - val_loss_val: 3.1726 - val_val_accuracy: 0.9062\n",
      "Epoch 104/200\n",
      "1/1 [==============================] - 0s 464ms/step - loss: 0.0841 - accuracy: 1.0000 - val_loss_val: 2.9120 - val_val_accuracy: 0.8750\n",
      "Epoch 105/200\n",
      "1/1 [==============================] - 1s 511ms/step - loss: 0.1221 - accuracy: 0.9957 - val_loss_val: 2.6955 - val_val_accuracy: 0.8750\n",
      "Epoch 106/200\n",
      "1/1 [==============================] - 0s 499ms/step - loss: 0.0748 - accuracy: 0.9957 - val_loss_val: 2.2496 - val_val_accuracy: 0.9375\n",
      "Epoch 107/200\n",
      "1/1 [==============================] - 1s 566ms/step - loss: 0.0943 - accuracy: 0.9913 - val_loss_val: 2.6749 - val_val_accuracy: 0.9062\n",
      "Epoch 108/200\n",
      "1/1 [==============================] - 1s 531ms/step - loss: 0.1419 - accuracy: 0.9913 - val_loss_val: 3.4985 - val_val_accuracy: 0.8438\n",
      "Epoch 109/200\n",
      "1/1 [==============================] - 0s 487ms/step - loss: 0.1026 - accuracy: 0.9957 - val_loss_val: 4.2824 - val_val_accuracy: 0.8438\n",
      "Epoch 110/200\n",
      "1/1 [==============================] - 0s 392ms/step - loss: 0.0633 - accuracy: 0.9957 - val_loss_val: 4.0433 - val_val_accuracy: 0.7812\n",
      "Epoch 111/200\n",
      "1/1 [==============================] - 0s 379ms/step - loss: 0.1835 - accuracy: 0.9870 - val_loss_val: 3.7606 - val_val_accuracy: 0.8438\n",
      "Epoch 112/200\n",
      "1/1 [==============================] - 0s 405ms/step - loss: 0.0535 - accuracy: 1.0000 - val_loss_val: 3.3623 - val_val_accuracy: 0.9062\n",
      "Epoch 113/200\n",
      "1/1 [==============================] - 0s 455ms/step - loss: 0.1051 - accuracy: 0.9957 - val_loss_val: 3.9781 - val_val_accuracy: 0.8125\n",
      "Epoch 114/200\n",
      "1/1 [==============================] - 0s 392ms/step - loss: 0.1117 - accuracy: 0.9957 - val_loss_val: 3.6187 - val_val_accuracy: 0.8125\n",
      "Epoch 115/200\n",
      "1/1 [==============================] - 0s 383ms/step - loss: 0.1035 - accuracy: 0.9957 - val_loss_val: 3.0623 - val_val_accuracy: 0.9062\n",
      "Epoch 116/200\n",
      "1/1 [==============================] - 0s 399ms/step - loss: 0.0911 - accuracy: 0.9957 - val_loss_val: 3.8122 - val_val_accuracy: 0.7812\n",
      "Epoch 117/200\n",
      "1/1 [==============================] - 0s 432ms/step - loss: 0.0361 - accuracy: 1.0000 - val_loss_val: 3.2749 - val_val_accuracy: 0.8750\n",
      "Epoch 118/200\n",
      "1/1 [==============================] - 0s 461ms/step - loss: 0.0688 - accuracy: 1.0000 - val_loss_val: 3.3288 - val_val_accuracy: 0.8750\n",
      "Epoch 119/200\n",
      "1/1 [==============================] - 0s 461ms/step - loss: 0.0997 - accuracy: 0.9957 - val_loss_val: 4.0684 - val_val_accuracy: 0.7500\n",
      "Epoch 120/200\n",
      "1/1 [==============================] - 0s 426ms/step - loss: 0.0636 - accuracy: 1.0000 - val_loss_val: 3.4469 - val_val_accuracy: 0.8438\n",
      "Epoch 121/200\n",
      "1/1 [==============================] - 0s 417ms/step - loss: 0.1031 - accuracy: 0.9870 - val_loss_val: 3.8312 - val_val_accuracy: 0.8750\n",
      "Epoch 122/200\n",
      "1/1 [==============================] - 0s 390ms/step - loss: 0.0880 - accuracy: 0.9913 - val_loss_val: 3.2342 - val_val_accuracy: 0.9062\n",
      "Epoch 123/200\n",
      "1/1 [==============================] - 0s 375ms/step - loss: 0.0254 - accuracy: 1.0000 - val_loss_val: 3.9993 - val_val_accuracy: 0.8125\n",
      "Epoch 124/200\n",
      "1/1 [==============================] - 0s 381ms/step - loss: 0.0445 - accuracy: 1.0000 - val_loss_val: 2.8119 - val_val_accuracy: 0.8750\n",
      "Epoch 125/200\n",
      "1/1 [==============================] - 0s 376ms/step - loss: 0.0704 - accuracy: 0.9957 - val_loss_val: 3.0083 - val_val_accuracy: 0.9062\n",
      "Epoch 126/200\n",
      "1/1 [==============================] - 0s 409ms/step - loss: 0.0475 - accuracy: 1.0000 - val_loss_val: 2.2963 - val_val_accuracy: 0.8750\n",
      "Epoch 127/200\n",
      "1/1 [==============================] - 0s 404ms/step - loss: 0.0684 - accuracy: 1.0000 - val_loss_val: 2.7679 - val_val_accuracy: 0.8750\n",
      "Epoch 128/200\n",
      "1/1 [==============================] - 0s 398ms/step - loss: 0.0559 - accuracy: 1.0000 - val_loss_val: 2.7439 - val_val_accuracy: 0.9688\n",
      "Epoch 129/200\n",
      "1/1 [==============================] - 0s 420ms/step - loss: 0.0885 - accuracy: 0.9957 - val_loss_val: 5.1979 - val_val_accuracy: 0.8438\n",
      "Epoch 130/200\n",
      "1/1 [==============================] - 0s 417ms/step - loss: 0.1147 - accuracy: 0.9957 - val_loss_val: 3.0884 - val_val_accuracy: 0.8750\n",
      "Epoch 131/200\n",
      "1/1 [==============================] - 0s 411ms/step - loss: 0.0406 - accuracy: 1.0000 - val_loss_val: 3.0573 - val_val_accuracy: 0.9062\n",
      "Epoch 132/200\n",
      "1/1 [==============================] - 0s 373ms/step - loss: 0.0601 - accuracy: 1.0000 - val_loss_val: 3.0884 - val_val_accuracy: 0.8750\n",
      "Epoch 133/200\n",
      "1/1 [==============================] - 0s 370ms/step - loss: 0.0701 - accuracy: 1.0000 - val_loss_val: 3.9061 - val_val_accuracy: 0.8125\n",
      "Epoch 134/200\n",
      "1/1 [==============================] - 0s 396ms/step - loss: 0.0364 - accuracy: 1.0000 - val_loss_val: 3.2881 - val_val_accuracy: 0.8438\n",
      "Epoch 135/200\n",
      "1/1 [==============================] - 0s 496ms/step - loss: 0.0881 - accuracy: 0.9957 - val_loss_val: 5.0311 - val_val_accuracy: 0.8125\n",
      "Epoch 136/200\n",
      "1/1 [==============================] - 1s 518ms/step - loss: 0.0221 - accuracy: 1.0000 - val_loss_val: 3.4651 - val_val_accuracy: 0.8750\n",
      "Epoch 137/200\n",
      "1/1 [==============================] - 1s 559ms/step - loss: 0.0857 - accuracy: 0.9957 - val_loss_val: 3.9089 - val_val_accuracy: 0.8750\n",
      "Epoch 138/200\n",
      "1/1 [==============================] - 1s 509ms/step - loss: 0.0356 - accuracy: 1.0000 - val_loss_val: 3.8240 - val_val_accuracy: 0.8750\n",
      "Epoch 139/200\n",
      "1/1 [==============================] - 1s 520ms/step - loss: 0.0257 - accuracy: 1.0000 - val_loss_val: 3.0755 - val_val_accuracy: 0.9375\n",
      "Epoch 140/200\n",
      "1/1 [==============================] - 0s 454ms/step - loss: 0.0423 - accuracy: 1.0000 - val_loss_val: 3.7419 - val_val_accuracy: 0.8750\n",
      "Epoch 141/200\n",
      "1/1 [==============================] - 0s 422ms/step - loss: 0.0262 - accuracy: 1.0000 - val_loss_val: 4.2727 - val_val_accuracy: 0.8750\n",
      "Epoch 142/200\n",
      "1/1 [==============================] - 0s 454ms/step - loss: 0.0911 - accuracy: 0.9957 - val_loss_val: 3.2654 - val_val_accuracy: 0.8750\n",
      "Epoch 143/200\n",
      "1/1 [==============================] - 0s 452ms/step - loss: 0.0215 - accuracy: 1.0000 - val_loss_val: 4.0261 - val_val_accuracy: 0.8125\n",
      "Epoch 144/200\n",
      "1/1 [==============================] - 0s 422ms/step - loss: 0.0314 - accuracy: 1.0000 - val_loss_val: 5.3001 - val_val_accuracy: 0.8750\n",
      "Epoch 145/200\n",
      "1/1 [==============================] - 0s 454ms/step - loss: 0.0299 - accuracy: 1.0000 - val_loss_val: 4.5949 - val_val_accuracy: 0.8750\n",
      "Epoch 146/200\n",
      "1/1 [==============================] - 0s 448ms/step - loss: 0.0277 - accuracy: 1.0000 - val_loss_val: 5.0664 - val_val_accuracy: 0.8125\n",
      "Epoch 147/200\n",
      "1/1 [==============================] - 0s 474ms/step - loss: 0.1025 - accuracy: 0.9957 - val_loss_val: 3.8777 - val_val_accuracy: 0.8438\n",
      "Epoch 148/200\n",
      "1/1 [==============================] - 0s 455ms/step - loss: 0.0464 - accuracy: 1.0000 - val_loss_val: 5.7433 - val_val_accuracy: 0.8125\n",
      "Epoch 149/200\n",
      "1/1 [==============================] - 0s 463ms/step - loss: 0.0681 - accuracy: 0.9957 - val_loss_val: 3.9656 - val_val_accuracy: 0.8750\n",
      "Epoch 150/200\n",
      "1/1 [==============================] - 0s 442ms/step - loss: 0.0276 - accuracy: 1.0000 - val_loss_val: 3.1295 - val_val_accuracy: 0.9062\n",
      "Epoch 151/200\n",
      "1/1 [==============================] - 0s 459ms/step - loss: 0.0553 - accuracy: 0.9957 - val_loss_val: 3.5350 - val_val_accuracy: 0.9062\n",
      "Epoch 152/200\n",
      "1/1 [==============================] - 0s 471ms/step - loss: 0.0147 - accuracy: 1.0000 - val_loss_val: 4.4481 - val_val_accuracy: 0.8125\n",
      "Epoch 153/200\n",
      "1/1 [==============================] - 1s 526ms/step - loss: 0.0365 - accuracy: 1.0000 - val_loss_val: 4.4620 - val_val_accuracy: 0.8438\n",
      "Epoch 154/200\n",
      "1/1 [==============================] - 0s 491ms/step - loss: 0.0183 - accuracy: 1.0000 - val_loss_val: 3.3634 - val_val_accuracy: 0.8438\n",
      "Epoch 155/200\n",
      "1/1 [==============================] - 1s 505ms/step - loss: 0.0154 - accuracy: 1.0000 - val_loss_val: 3.5273 - val_val_accuracy: 0.8750\n",
      "Epoch 156/200\n",
      "1/1 [==============================] - 0s 468ms/step - loss: 0.0658 - accuracy: 0.9957 - val_loss_val: 4.4839 - val_val_accuracy: 0.9062\n",
      "Epoch 157/200\n",
      "1/1 [==============================] - 0s 441ms/step - loss: 0.0677 - accuracy: 0.9957 - val_loss_val: 3.5455 - val_val_accuracy: 0.8125\n",
      "Epoch 158/200\n",
      "1/1 [==============================] - 0s 455ms/step - loss: 0.0437 - accuracy: 0.9957 - val_loss_val: 3.2830 - val_val_accuracy: 0.9375\n",
      "Epoch 159/200\n",
      "1/1 [==============================] - 0s 439ms/step - loss: 0.0404 - accuracy: 1.0000 - val_loss_val: 3.4680 - val_val_accuracy: 0.8750\n",
      "Epoch 160/200\n",
      "1/1 [==============================] - 0s 432ms/step - loss: 0.0619 - accuracy: 0.9957 - val_loss_val: 4.3187 - val_val_accuracy: 0.8125\n",
      "Epoch 161/200\n",
      "1/1 [==============================] - 0s 471ms/step - loss: 0.0674 - accuracy: 0.9957 - val_loss_val: 3.3293 - val_val_accuracy: 0.8750\n",
      "Epoch 162/200\n",
      "1/1 [==============================] - 0s 470ms/step - loss: 0.0428 - accuracy: 1.0000 - val_loss_val: 4.5691 - val_val_accuracy: 0.8438\n",
      "Epoch 163/200\n",
      "1/1 [==============================] - 0s 431ms/step - loss: 0.0937 - accuracy: 0.9957 - val_loss_val: 5.2905 - val_val_accuracy: 0.7812\n",
      "Epoch 164/200\n",
      "1/1 [==============================] - 0s 428ms/step - loss: 0.0333 - accuracy: 1.0000 - val_loss_val: 4.3442 - val_val_accuracy: 0.8125\n",
      "Epoch 165/200\n",
      "1/1 [==============================] - 0s 450ms/step - loss: 0.0158 - accuracy: 1.0000 - val_loss_val: 4.8450 - val_val_accuracy: 0.7812\n",
      "Epoch 166/200\n",
      "1/1 [==============================] - 0s 427ms/step - loss: 0.0145 - accuracy: 1.0000 - val_loss_val: 4.8934 - val_val_accuracy: 0.7500\n",
      "Epoch 167/200\n",
      "1/1 [==============================] - 0s 395ms/step - loss: 0.0473 - accuracy: 1.0000 - val_loss_val: 3.7616 - val_val_accuracy: 0.8438\n",
      "Epoch 168/200\n",
      "1/1 [==============================] - 0s 386ms/step - loss: 0.0086 - accuracy: 1.0000 - val_loss_val: 3.6678 - val_val_accuracy: 0.8750\n",
      "Epoch 169/200\n",
      "1/1 [==============================] - 0s 433ms/step - loss: 0.0170 - accuracy: 1.0000 - val_loss_val: 3.9789 - val_val_accuracy: 0.8750\n",
      "Epoch 170/200\n",
      "1/1 [==============================] - 0s 465ms/step - loss: 0.0301 - accuracy: 1.0000 - val_loss_val: 2.2973 - val_val_accuracy: 0.9688\n",
      "Epoch 171/200\n",
      "1/1 [==============================] - 0s 499ms/step - loss: 0.0202 - accuracy: 1.0000 - val_loss_val: 3.4807 - val_val_accuracy: 0.8438\n",
      "Epoch 172/200\n",
      "1/1 [==============================] - 0s 477ms/step - loss: 0.0269 - accuracy: 1.0000 - val_loss_val: 3.5463 - val_val_accuracy: 0.9062\n",
      "Epoch 173/200\n",
      "1/1 [==============================] - 0s 437ms/step - loss: 0.0265 - accuracy: 1.0000 - val_loss_val: 3.3216 - val_val_accuracy: 0.8125\n",
      "Epoch 174/200\n",
      "1/1 [==============================] - 0s 476ms/step - loss: 0.0371 - accuracy: 1.0000 - val_loss_val: 3.1678 - val_val_accuracy: 0.9062\n",
      "Epoch 175/200\n",
      "1/1 [==============================] - 0s 429ms/step - loss: 0.0098 - accuracy: 1.0000 - val_loss_val: 4.4247 - val_val_accuracy: 0.8438\n",
      "Epoch 176/200\n",
      "1/1 [==============================] - 0s 451ms/step - loss: 0.0283 - accuracy: 1.0000 - val_loss_val: 2.9643 - val_val_accuracy: 0.9062\n",
      "Epoch 177/200\n",
      "1/1 [==============================] - 0s 455ms/step - loss: 0.0275 - accuracy: 1.0000 - val_loss_val: 2.9136 - val_val_accuracy: 0.8750\n",
      "Epoch 178/200\n",
      "1/1 [==============================] - 0s 465ms/step - loss: 0.0078 - accuracy: 1.0000 - val_loss_val: 2.2660 - val_val_accuracy: 0.9375\n",
      "Epoch 179/200\n",
      "1/1 [==============================] - 0s 479ms/step - loss: 0.0495 - accuracy: 1.0000 - val_loss_val: 3.7179 - val_val_accuracy: 0.8438\n",
      "Epoch 180/200\n",
      "1/1 [==============================] - 0s 477ms/step - loss: 0.0439 - accuracy: 0.9957 - val_loss_val: 3.6114 - val_val_accuracy: 0.9062\n",
      "Epoch 181/200\n",
      "1/1 [==============================] - 0s 495ms/step - loss: 0.0207 - accuracy: 1.0000 - val_loss_val: 3.7968 - val_val_accuracy: 0.8438\n",
      "Epoch 182/200\n",
      "1/1 [==============================] - 0s 402ms/step - loss: 0.0119 - accuracy: 1.0000 - val_loss_val: 3.0776 - val_val_accuracy: 0.8125\n",
      "Epoch 183/200\n",
      "1/1 [==============================] - 0s 379ms/step - loss: 0.0511 - accuracy: 0.9957 - val_loss_val: 2.5982 - val_val_accuracy: 0.9062\n",
      "Epoch 184/200\n",
      "1/1 [==============================] - 0s 390ms/step - loss: 0.0136 - accuracy: 1.0000 - val_loss_val: 3.3703 - val_val_accuracy: 0.8438\n",
      "Epoch 185/200\n",
      "1/1 [==============================] - 0s 389ms/step - loss: 0.0531 - accuracy: 0.9957 - val_loss_val: 5.1038 - val_val_accuracy: 0.7812\n",
      "Epoch 186/200\n",
      "1/1 [==============================] - 0s 422ms/step - loss: 0.0226 - accuracy: 1.0000 - val_loss_val: 2.7333 - val_val_accuracy: 0.8438\n",
      "Epoch 187/200\n",
      "1/1 [==============================] - 0s 378ms/step - loss: 0.0092 - accuracy: 1.0000 - val_loss_val: 4.0201 - val_val_accuracy: 0.7812\n",
      "Epoch 188/200\n",
      "1/1 [==============================] - 0s 441ms/step - loss: 0.0112 - accuracy: 1.0000 - val_loss_val: 2.3937 - val_val_accuracy: 0.9062\n",
      "Epoch 189/200\n",
      "1/1 [==============================] - 0s 407ms/step - loss: 0.0490 - accuracy: 1.0000 - val_loss_val: 4.3067 - val_val_accuracy: 0.8125\n",
      "Epoch 190/200\n",
      "1/1 [==============================] - 0s 376ms/step - loss: 0.0217 - accuracy: 1.0000 - val_loss_val: 4.1464 - val_val_accuracy: 0.8750\n",
      "Epoch 191/200\n",
      "1/1 [==============================] - 0s 387ms/step - loss: 0.0045 - accuracy: 1.0000 - val_loss_val: 3.7891 - val_val_accuracy: 0.8750\n",
      "Epoch 192/200\n",
      "1/1 [==============================] - 0s 435ms/step - loss: 0.0168 - accuracy: 1.0000 - val_loss_val: 4.9016 - val_val_accuracy: 0.8125\n",
      "Epoch 193/200\n",
      "1/1 [==============================] - 0s 465ms/step - loss: 0.0201 - accuracy: 1.0000 - val_loss_val: 3.9097 - val_val_accuracy: 0.8750\n",
      "Epoch 194/200\n",
      "1/1 [==============================] - 0s 449ms/step - loss: 0.0100 - accuracy: 1.0000 - val_loss_val: 4.5297 - val_val_accuracy: 0.8438\n",
      "Epoch 195/200\n",
      "1/1 [==============================] - 0s 449ms/step - loss: 0.0043 - accuracy: 1.0000 - val_loss_val: 3.5955 - val_val_accuracy: 0.8438\n",
      "Epoch 196/200\n",
      "1/1 [==============================] - 0s 422ms/step - loss: 0.0176 - accuracy: 1.0000 - val_loss_val: 2.2734 - val_val_accuracy: 0.9062\n",
      "Epoch 197/200\n",
      "1/1 [==============================] - 0s 459ms/step - loss: 0.0131 - accuracy: 1.0000 - val_loss_val: 5.2559 - val_val_accuracy: 0.8125\n",
      "Epoch 198/200\n",
      "1/1 [==============================] - 1s 602ms/step - loss: 0.0071 - accuracy: 1.0000 - val_loss_val: 4.3107 - val_val_accuracy: 0.7812\n",
      "Epoch 199/200\n",
      "1/1 [==============================] - 0s 446ms/step - loss: 0.0601 - accuracy: 0.9957 - val_loss_val: 7.1180 - val_val_accuracy: 0.8125\n",
      "Epoch 200/200\n",
      "1/1 [==============================] - 0s 447ms/step - loss: 0.0110 - accuracy: 1.0000 - val_loss_val: 4.8644 - val_val_accuracy: 0.7812\n"
     ]
    }
   ],
   "source": [
    "model_history = model.fit(x_train, np.array(y_train), batch_size=256, epochs=200,\n",
    "                    validation_split=0.1, verbose=1, callbacks=None)"
   ]
  },
  {
   "cell_type": "code",
   "execution_count": 201,
   "metadata": {},
   "outputs": [],
   "source": [
    "if (MODEL_TYPE == 'LSTM'):\n",
    "    model.save_weights('bilstm')\n",
    "else:\n",
    "    model.save_weights('bigru')"
   ]
  },
  {
   "cell_type": "code",
   "execution_count": 190,
   "metadata": {},
   "outputs": [],
   "source": [
    "# Save all auxiliary model data to json\n",
    "import json\n",
    "\n",
    "ner_config = {\n",
    "    \"n_tags\": n_tags,\n",
    "    \"n_words\": n_words,\n",
    "    \"maxlen\": maxlen,\n",
    "    \"shape\": x.shape,\n",
    "    \"word_embedding_size\": word_embedding_size\n",
    "}\n",
    "\n",
    "folder_name = 'cfg'\n",
    "\n",
    "with open(\"{}/{}.json\".format(folder_name, \"word_list\"), \"w\") as file_path:\n",
    "    json.dump(word2idx, file_path)\n",
    "\n",
    "with open(\"{}/{}.json\".format(folder_name, \"ner_config\"), \"w\") as file_path:\n",
    "    json.dump(ner_config, file_path)\n",
    "\n",
    "with open(\"{}/{}.json\".format(folder_name, \"tags\"), \"w\") as file_path:\n",
    "    json.dump(tags, file_path)\n"
   ]
  },
  {
   "cell_type": "code",
   "execution_count": 203,
   "metadata": {},
   "outputs": [],
   "source": [
    "if (MODEL_TYPE == 'LSTM'):\n",
    "    model.load_weights('bilstm')\n",
    "else:\n",
    "    model.load_weights('bigru')\n"
   ]
  },
  {
   "cell_type": "code",
   "execution_count": 204,
   "metadata": {},
   "outputs": [
    {
     "data": {
      "text/plain": [
       "array([52, 57, 62, 59, 44, 38, 76, 76])"
      ]
     },
     "execution_count": 204,
     "metadata": {},
     "output_type": "execute_result"
    }
   ],
   "source": [
    "x_test[1]"
   ]
  },
  {
   "cell_type": "code",
   "execution_count": 205,
   "metadata": {},
   "outputs": [
    {
     "name": "stdout",
     "output_type": "stream",
     "text": [
      "1/1 [==============================] - 3s 3s/step\n",
      "[1 2 0 0 1 0 0 0]\n",
      "Word            Tag             Predicted\n",
      "sakit           B-SYMPTOM       B-SYMPTOM\n",
      "ulo             I-SYMPTOM       I-SYMPTOM\n",
      "rin             O               O\n",
      "lagi            O               O\n",
      "lamig           B-SYMPTOM       B-SYMPTOM\n",
      "UNKNOWN         O               O\n",
      "UNKNOWN         O               O\n",
      "UNKNOWN         O               O\n"
     ]
    }
   ],
   "source": [
    "i = 0\n",
    "p = model.predict(np.array([x_test[i]]))\n",
    "print(p[0])\n",
    "#p = np.argmax(p, axis=-1)\n",
    "gt = np.argmax(y_test_categorical[i], axis=-1)\n",
    "print(\"{:15} {:15} {}\".format(\"Word\", \"Tag\", \"Predicted\"))\n",
    "for i, actual_tag, pred_tag in zip(x_test[i], gt, p[0]):\n",
    "    print(\"{:15} {:15} {}\".format(words[i], idx2tag[actual_tag], idx2tag[pred_tag]))\n",
    "            \n",
    "# for idx, (w,pred) in enumerate(zip(x_test[i],p)):\n",
    "#     print(\"{:15} {:15} {}\".format(words[w],idx2tag[gt[idx]],tags[pred]))"
   ]
  },
  {
   "cell_type": "code",
   "execution_count": 206,
   "metadata": {},
   "outputs": [
    {
     "name": "stdout",
     "output_type": "stream",
     "text": [
      "15/15 [==============================] - 1s 33ms/step\n"
     ]
    }
   ],
   "source": [
    "y_pred = model.predict(x_test, batch_size=1, verbose=1)\n"
   ]
  },
  {
   "cell_type": "code",
   "execution_count": 207,
   "metadata": {},
   "outputs": [],
   "source": [
    "def pred2label(pred):\n",
    "    out = []\n",
    "    for pred_i in pred:\n",
    "        out_i = []\n",
    "        for tag in pred_i:\n",
    "            out_i.append(idx2tag[tag].replace(\"PAD\", \"O\"))\n",
    "        out.append(out_i)\n",
    "    return out\n",
    "\n",
    "\n",
    "x_labels = pred2label(y_pred)\n",
    "y_labels = pred2label(y_test)\n"
   ]
  },
  {
   "cell_type": "code",
   "execution_count": 208,
   "metadata": {},
   "outputs": [
    {
     "name": "stdout",
     "output_type": "stream",
     "text": [
      "Precision: 77.8%\n",
      "Recall: 65.6%\n",
      "F1-score: 71.2%\n"
     ]
    }
   ],
   "source": [
    "from seqeval.metrics import precision_score, recall_score, f1_score, classification_report\n",
    "from sklearn.metrics import multilabel_confusion_matrix\n",
    "\n",
    "print(\"Precision: {:.1%}\".format(precision_score(y_labels, x_labels)))\n",
    "print(\"Recall: {:.1%}\".format(recall_score(y_labels, x_labels)))\n",
    "print(\"F1-score: {:.1%}\".format(f1_score(y_labels, x_labels)))\n"
   ]
  },
  {
   "cell_type": "code",
   "execution_count": 209,
   "metadata": {},
   "outputs": [
    {
     "name": "stdout",
     "output_type": "stream",
     "text": [
      "              precision    recall  f1-score   support\n",
      "\n",
      "     SYMPTOM       0.78      0.66      0.71        32\n",
      "\n",
      "   micro avg       0.78      0.66      0.71        32\n",
      "   macro avg       0.78      0.66      0.71        32\n",
      "weighted avg       0.78      0.66      0.71        32\n",
      "\n",
      "[[[3 0]\n",
      "  [1 4]]\n",
      "\n",
      " [[7 1]\n",
      "  [0 0]]\n",
      "\n",
      " [[5 0]\n",
      "  [0 3]]]\n"
     ]
    }
   ],
   "source": [
    "#print(np.array(y_test))\n",
    "#print(np.round(y_pred))\n",
    "\n",
    "print(classification_report(y_labels, x_labels, zero_division=0))\n",
    "print(multilabel_confusion_matrix(y_labels[1], x_labels[1]))\n"
   ]
  }
 ],
 "metadata": {
  "kernelspec": {
   "display_name": "Python 3.10.6 64-bit",
   "language": "python",
   "name": "python3"
  },
  "language_info": {
   "codemirror_mode": {
    "name": "ipython",
    "version": 3
   },
   "file_extension": ".py",
   "mimetype": "text/x-python",
   "name": "python",
   "nbconvert_exporter": "python",
   "pygments_lexer": "ipython3",
   "version": "3.10.6"
  },
  "orig_nbformat": 4,
  "vscode": {
   "interpreter": {
    "hash": "369f2c481f4da34e4445cda3fffd2e751bd1c4d706f27375911949ba6bb62e1c"
   }
  }
 },
 "nbformat": 4,
 "nbformat_minor": 2
}
